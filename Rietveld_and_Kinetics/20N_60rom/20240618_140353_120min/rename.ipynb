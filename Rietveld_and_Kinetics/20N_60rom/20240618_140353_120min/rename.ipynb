{
 "cells": [
  {
   "cell_type": "code",
   "execution_count": null,
   "metadata": {},
   "outputs": [],
   "source": []
  },
  {
   "cell_type": "code",
   "execution_count": 2,
   "metadata": {},
   "outputs": [
    {
     "name": "stdout",
     "output_type": "stream",
     "text": [
      "Current directory: c:\\Users\\yusak\\OneDrive\\デスクトップ\\current_task\\Force-Controlled-Robotic-Mechanochemical-Synthesis\\Rietveld_and_Kinetics\\10N_60rom\\20240618_140353_120min\n",
      "Renamed rename.ipynb to 20240618_140353_120min.ipynb\n",
      "Renamed trial84_YN33_20N_speed0.5_CsPbBr3_120min_20240617_210632_G01_S01.csv to 20240618_140353_120min.csv\n",
      "Renamed trial84_YN33_20N_speed0.5_CsPbBr3_120min_20240617_210632_G01_S01.xye.gpx to 20240618_140353_120min.gpx\n",
      "Renamed trial84_YN33_20N_speed0.5_CsPbBr3_120min_20240617_210632_G01_S01.xye.lst to 20240618_140353_120min.lst\n",
      "Renamed YN33_20N_speed0.5_CsPbBr3_120min_20240617_210632_G01_S01.xye to 20240618_140353_120min.xye\n",
      "Renamed YN33_20N_speed0.5_CsPbBr3_120min_20240617_210632_G01_S01.xye.pkl to 20240618_140353_120min.pkl\n"
     ]
    }
   ],
   "source": [
    "import os\n",
    "\n",
    "def rename_files_to_directory_name():\n",
    "    # Get the current working directory\n",
    "    current_directory = os.getcwd()\n",
    "    directory_name = os.path.basename(current_directory)\n",
    "    print(f\"Current directory: {current_directory}\")\n",
    "    \n",
    "    # Iterate through all files in the directory\n",
    "    for filename in os.listdir(current_directory):\n",
    "        # Skip directories\n",
    "        if os.path.isdir(filename):\n",
    "            continue\n",
    "        if \"result.csv\" in filename:\n",
    "            continue\n",
    "        \n",
    "        # Get the file extension\n",
    "        file_extension = os.path.splitext(filename)[1]\n",
    "        \n",
    "        # Construct the new file name\n",
    "        new_filename = f\"{directory_name}{file_extension}\"\n",
    "        \n",
    "        # Rename the file\n",
    "\n",
    "        os.rename(filename, new_filename)\n",
    "        print(f\"Renamed {filename} to {new_filename}\")\n",
    "\n",
    "# Call the function\n",
    "rename_files_to_directory_name()"
   ]
  },
  {
   "cell_type": "code",
   "execution_count": null,
   "metadata": {},
   "outputs": [],
   "source": [
    "import os\n",
    "\n",
    "def rename_files_in_directory(directory):\n",
    "    directory_name = os.path.basename(directory)\n",
    "    print(f\"Processing directory: {directory}\")\n",
    "    \n",
    "    # Iterate through all files in the directory\n",
    "    for filename in os.listdir(directory):\n",
    "        file_path = os.path.join(directory, filename)\n",
    "        \n",
    "        # Skip directories\n",
    "        if os.path.isdir(file_path):\n",
    "            continue\n",
    "        if \"result.csv\" in filename:\n",
    "            continue\n",
    "        \n",
    "        # Get the file extension\n",
    "        file_extension = os.path.splitext(filename)[1]\n",
    "        \n",
    "        # Construct the new file name\n",
    "        new_filename = f\"{directory_name}{file_extension}\"\n",
    "        new_file_path = os.path.join(directory, new_filename)\n",
    "        \n",
    "        # Rename the file\n",
    "        os.rename(file_path, new_file_path)\n",
    "        print(f\"Renamed {file_path} to {new_file_path}\")\n",
    "\n",
    "def recursive_search_and_rename(directory):\n",
    "    # Iterate through all items in the directory\n",
    "    for root, dirs, files in os.walk(directory, topdown=False):\n",
    "        # Rename files in the deepest directories first\n",
    "        rename_files_in_directory(root)\n",
    "\n",
    "# Get the current working directory\n",
    "current_directory = os.getcwd()\n",
    "\n",
    "# Start the recursive search and rename process\n",
    "recursive_search_and_rename(current_directory)"
   ]
  }
 ],
 "metadata": {
  "kernelspec": {
   "display_name": "Python 3",
   "language": "python",
   "name": "python3"
  },
  "language_info": {
   "codemirror_mode": {
    "name": "ipython",
    "version": 3
   },
   "file_extension": ".py",
   "mimetype": "text/x-python",
   "name": "python",
   "nbconvert_exporter": "python",
   "pygments_lexer": "ipython3",
   "version": "3.10.0"
  }
 },
 "nbformat": 4,
 "nbformat_minor": 2
}
